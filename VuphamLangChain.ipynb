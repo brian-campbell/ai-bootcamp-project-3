{
 "cells": [
  {
   "cell_type": "code",
   "execution_count": 1,
   "metadata": {},
   "outputs": [],
   "source": [
    "from langchain import ConversationChain\n",
    "from langchain.chat_models import ChatOpenAI\n",
    "from langchain.memory import ConversationBufferMemory\n",
    "from langchain.prompts import PromptTemplate\n",
    "import requests\n",
    "import os\n",
    "import gradio as gr\n",
    "\n",
    "# Set OpenAI and TMDb API keys\n",
    "openai_api_key = \"sk-svcacct-gCfZzvxqywYyhlW707rzn55aw_uE8OZgn-OJoWoZw0pii-LdD6dJN5gp4fBncT3BlbkFJBvpw97Xu267gUY7oWxNesfVzeTl2xjl9Hxj71UUf_Y7Y6fE_RMZ6v576KK67AA\"  \n",
    "tmdb_api_key = \"7606a082a3cb4ebef8db46609a0994e0\"  \n",
    "\n",
    "# Define a function to query the TMDb API for movie recommendations\n",
    "def query_tmdb(genre=None, min_year=None, max_year=None, min_rating=None, max_rating=None, max_runtime=None):\n",
    "    base_url = \"https://api.themoviedb.org/3/discover/movie\"\n",
    "    params = {\n",
    "        \"api_key\": tmdb_api_key,\n",
    "        \"language\": \"en-US\",\n",
    "        \"sort_by\": \"popularity.desc\",\n",
    "        \"include_adult\": \"false\",\n",
    "        \"with_genres\": genre,\n",
    "        \"primary_release_date.gte\": f\"{min_year}-01-01\" if min_year else None,\n",
    "        \"primary_release_date.lte\": f\"{max_year}-12-31\" if max_year else None,\n",
    "        \"vote_average.gte\": min_rating,\n",
    "        \"vote_average.lte\": max_rating,\n",
    "        \"with_runtime.lte\": max_runtime,\n",
    "        \"page\": 1\n",
    "    }\n",
    "    # Filter out None values in params\n",
    "    params = {k: v for k, v in params.items() if v is not None}\n",
    "    response = requests.get(base_url, params=params)\n",
    "    \n",
    "    if response.status_code == 200:\n",
    "        movies = response.json().get(\"results\", [])\n",
    "        movie_details = []\n",
    "        for movie in movies[:10]:  # Limit to top 10 results for performance\n",
    "            # Get additional details, including runtime, by movie ID\n",
    "            movie_id = movie['id']\n",
    "            detail_response = requests.get(f\"https://api.themoviedb.org/3/movie/{movie_id}\", params={\"api_key\": tmdb_api_key})\n",
    "            if detail_response.status_code == 200:\n",
    "                details = detail_response.json()\n",
    "                movie_details.append(\n",
    "                    f\"{movie['title']} ({movie['release_date'][:4]}), Rating: {movie.get('vote_average', 'N/A')}, \"\n",
    "                    f\"Runtime: {details.get('runtime', 'N/A')} minutes\"\n",
    "                )\n",
    "            else:\n",
    "                movie_details.append(f\"{movie['title']} - Additional details unavailable.\")\n",
    "        return movie_details\n",
    "    else:\n",
    "        return [\"No results found.\"]"
   ]
  },
  {
   "cell_type": "code",
   "execution_count": 2,
   "metadata": {},
   "outputs": [
    {
     "name": "stderr",
     "output_type": "stream",
     "text": [
      "C:\\Users\\scyph\\AppData\\Local\\Temp\\ipykernel_37276\\3033465025.py:12: LangChainDeprecationWarning: Please see the migration guide at: https://python.langchain.com/docs/versions/migrating_memory/\n",
      "  memory = ConversationBufferMemory(return_messages=True)\n",
      "C:\\Users\\scyph\\AppData\\Local\\Temp\\ipykernel_37276\\3033465025.py:13: LangChainDeprecationWarning: The class `ChatOpenAI` was deprecated in LangChain 0.0.10 and will be removed in 1.0. An updated version of the class exists in the :class:`~langchain-openai package and should be used instead. To use it run `pip install -U :class:`~langchain-openai` and import as `from :class:`~langchain_openai import ChatOpenAI``.\n",
      "  llm = ChatOpenAI(temperature=0, openai_api_key=openai_api_key)\n",
      "C:\\Users\\scyph\\AppData\\Local\\Temp\\ipykernel_37276\\3033465025.py:14: LangChainDeprecationWarning: The class `ConversationChain` was deprecated in LangChain 0.2.7 and will be removed in 1.0. Use :meth:`~RunnableWithMessageHistory: https://python.langchain.com/v0.2/api_reference/core/runnables/langchain_core.runnables.history.RunnableWithMessageHistory.html` instead.\n",
      "  chatgpt_chain = ConversationChain(llm=llm, memory=memory, prompt=prompt_template)\n"
     ]
    }
   ],
   "source": [
    "# Set up LangChain with prompt and memory\n",
    "prompt_template = PromptTemplate(\n",
    "    input_variables=[\"input\", \"history\"],\n",
    "    template=\"\"\"You are a helpful assistant for movie recommendations. When users ask for movies, ask for genre, year, rating, or runtime if needed and then provide recommendations based on TMDb API.\n",
    "\n",
    "    Conversation History:\n",
    "    {history}\n",
    "\n",
    "    User: {input}\n",
    "    Assistant:\"\"\"\n",
    ")\n",
    "memory = ConversationBufferMemory(return_messages=True)\n",
    "llm = ChatOpenAI(temperature=0, openai_api_key=openai_api_key)\n",
    "chatgpt_chain = ConversationChain(llm=llm, memory=memory, prompt=prompt_template)\n"
   ]
  },
  {
   "cell_type": "code",
   "execution_count": 3,
   "metadata": {},
   "outputs": [
    {
     "name": "stdout",
     "output_type": "stream",
     "text": [
      "* Running on local URL:  http://127.0.0.1:7860\n",
      "\n",
      "To create a public link, set `share=True` in `launch()`.\n"
     ]
    },
    {
     "data": {
      "text/html": [
       "<div><iframe src=\"http://127.0.0.1:7860/\" width=\"100%\" height=\"500\" allow=\"autoplay; camera; microphone; clipboard-read; clipboard-write;\" frameborder=\"0\" allowfullscreen></iframe></div>"
      ],
      "text/plain": [
       "<IPython.core.display.HTML object>"
      ]
     },
     "metadata": {},
     "output_type": "display_data"
    },
    {
     "data": {
      "text/plain": []
     },
     "execution_count": 3,
     "metadata": {},
     "output_type": "execute_result"
    }
   ],
   "source": [
    "# Function to handle user queries and call the TMDb API based on input details\n",
    "def chatgpt_direct_movie_recommender(user_query):\n",
    "    # Get response from LangChain conversation chain\n",
    "    chat_response = chatgpt_chain.predict(input=user_query)\n",
    "    \n",
    "    # Basic logic to detect if enough information is provided to query TMDb\n",
    "    genre = 28 if \"action\" in user_query.lower() else None\n",
    "    min_year, max_year = (2020, 2023) if \"recent\" in user_query.lower() else (None, None)\n",
    "    \n",
    "    # Detect rating range in user query, setting a default if none specified\n",
    "    min_rating = 7.0 if \"top rated\" in user_query.lower() else None\n",
    "    max_rating = 9.0 if \"highly rated\" in user_query.lower() else None\n",
    "    \n",
    "    # Query TMDb if sufficient parameters are detected\n",
    "    if genre or min_year or min_rating:\n",
    "        tmdb_results = query_tmdb(genre=genre, min_year=min_year, max_year=max_year, min_rating=min_rating, max_rating=max_rating)\n",
    "        return \"\\n\".join(tmdb_results)\n",
    "    return chat_response\n",
    "\n",
    "# Set up Gradio interface for interactive use\n",
    "chatgpt_interface = gr.Interface(\n",
    "    fn=chatgpt_direct_movie_recommender,\n",
    "    inputs=\"text\",\n",
    "    outputs=\"text\",\n",
    "    title=\"Movie Recommender Bot\"\n",
    ")\n",
    "\n",
    "# Launch the Gradio app\n",
    "chatgpt_interface.launch()"
   ]
  }
 ],
 "metadata": {
  "kernelspec": {
   "display_name": "dev",
   "language": "python",
   "name": "python3"
  },
  "language_info": {
   "codemirror_mode": {
    "name": "ipython",
    "version": 3
   },
   "file_extension": ".py",
   "mimetype": "text/x-python",
   "name": "python",
   "nbconvert_exporter": "python",
   "pygments_lexer": "ipython3",
   "version": "3.10.13"
  }
 },
 "nbformat": 4,
 "nbformat_minor": 2
}

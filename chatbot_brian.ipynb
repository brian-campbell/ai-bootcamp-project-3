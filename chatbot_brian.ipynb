{
 "cells": [
  {
   "cell_type": "markdown",
   "metadata": {},
   "source": [
    "## OSU AI Bootcamp Project 3\n",
    "### Chatbot to recommend movies based on IMDB database search"
   ]
  },
  {
   "cell_type": "code",
   "execution_count": 7,
   "metadata": {},
   "outputs": [
    {
     "name": "stdout",
     "output_type": "stream",
     "text": [
      "Retrying (Retry(total=2, connect=None, read=None, redirect=None, status=None)) after connection broken by 'NameResolutionError(\"<urllib3.connection.HTTPSConnection object at 0x107076d90>: Failed to resolve 'conda.anaconda.org' ([Errno 8] nodename nor servname provided, or not known)\")': /conda-forge/noarch/repodata.json\n",
      "\n",
      "Channels:\n",
      " - defaults\n",
      "Platform: osx-arm64\n",
      "Collecting package metadata (repodata.json): / Retrying (Retry(total=2, connect=None, read=None, redirect=None, status=None)) after connection broken by 'NameResolutionError(\"<urllib3.connection.HTTPSConnection object at 0x125c02010>: Failed to resolve 'repo.anaconda.com' ([Errno 8] nodename nor servname provided, or not known)\")': /pkgs/main/noarch/repodata.json.zst\n",
      "\n",
      "Retrying (Retry(total=2, connect=None, read=None, redirect=None, status=None)) after connection broken by 'NameResolutionError(\"<urllib3.connection.HTTPSConnection object at 0x125be95d0>: Failed to resolve 'repo.anaconda.com' ([Errno 8] nodename nor servname provided, or not known)\")': /pkgs/main/osx-arm64/repodata.json.zst\n",
      "\n",
      "Retrying (Retry(total=2, connect=None, read=None, redirect=None, status=None)) after connection broken by 'NameResolutionError(\"<urllib3.connection.HTTPSConnection object at 0x125be9f50>: Failed to resolve 'repo.anaconda.com' ([Errno 8] nodename nor servname provided, or not known)\")': /pkgs/r/osx-arm64/repodata.json.zst\n",
      "\n",
      "Retrying (Retry(total=2, connect=None, read=None, redirect=None, status=None)) after connection broken by 'NameResolutionError(\"<urllib3.connection.HTTPSConnection object at 0x125bd3bd0>: Failed to resolve 'repo.anaconda.com' ([Errno 8] nodename nor servname provided, or not known)\")': /pkgs/r/noarch/repodata.json.zst\n",
      "\n",
      "| Retrying (Retry(total=1, connect=None, read=None, redirect=None, status=None)) after connection broken by 'NameResolutionError(\"<urllib3.connection.HTTPSConnection object at 0x125beb990>: Failed to resolve 'repo.anaconda.com' ([Errno 8] nodename nor servname provided, or not known)\")': /pkgs/main/noarch/repodata.json.zst\n",
      "\n",
      "Retrying (Retry(total=1, connect=None, read=None, redirect=None, status=None)) after connection broken by 'NameResolutionError(\"<urllib3.connection.HTTPSConnection object at 0x125bd2a10>: Failed to resolve 'repo.anaconda.com' ([Errno 8] nodename nor servname provided, or not known)\")': /pkgs/main/osx-arm64/repodata.json.zst\n",
      "\n",
      "Retrying (Retry(total=1, connect=None, read=None, redirect=None, status=None)) after connection broken by 'NameResolutionError(\"<urllib3.connection.HTTPSConnection object at 0x125bd0310>: Failed to resolve 'repo.anaconda.com' ([Errno 8] nodename nor servname provided, or not known)\")': /pkgs/r/noarch/repodata.json.zst\n",
      "\n",
      "Retrying (Retry(total=1, connect=None, read=None, redirect=None, status=None)) after connection broken by 'NameResolutionError(\"<urllib3.connection.HTTPSConnection object at 0x125bd20d0>: Failed to resolve 'repo.anaconda.com' ([Errno 8] nodename nor servname provided, or not known)\")': /pkgs/r/osx-arm64/repodata.json.zst\n",
      "\n",
      "\\ Retrying (Retry(total=0, connect=None, read=None, redirect=None, status=None)) after connection broken by 'NameResolutionError(\"<urllib3.connection.HTTPSConnection object at 0x125bd1450>: Failed to resolve 'repo.anaconda.com' ([Errno 8] nodename nor servname provided, or not known)\")': /pkgs/main/osx-arm64/repodata.json.zst\n",
      "\n",
      "Retrying (Retry(total=0, connect=None, read=None, redirect=None, status=None)) after connection broken by 'NameResolutionError(\"<urllib3.connection.HTTPSConnection object at 0x125bd1110>: Failed to resolve 'repo.anaconda.com' ([Errno 8] nodename nor servname provided, or not known)\")': /pkgs/main/noarch/repodata.json.zst\n",
      "\n",
      "Retrying (Retry(total=0, connect=None, read=None, redirect=None, status=None)) after connection broken by 'NameResolutionError(\"<urllib3.connection.HTTPSConnection object at 0x125bd1d90>: Failed to resolve 'repo.anaconda.com' ([Errno 8] nodename nor servname provided, or not known)\")': /pkgs/r/osx-arm64/repodata.json.zst\n",
      "\n",
      "Retrying (Retry(total=0, connect=None, read=None, redirect=None, status=None)) after connection broken by 'NameResolutionError(\"<urllib3.connection.HTTPSConnection object at 0x125bd1a50>: Failed to resolve 'repo.anaconda.com' ([Errno 8] nodename nor servname provided, or not known)\")': /pkgs/r/noarch/repodata.json.zst\n",
      "\n",
      "failed\n",
      "\n",
      "CondaHTTPError: HTTP 000 CONNECTION FAILED for url <https://repo.anaconda.com/pkgs/main/osx-arm64/repodata.json>\n",
      "Elapsed: -\n",
      "\n",
      "An HTTP error occurred when trying to retrieve this URL.\n",
      "HTTP errors are often intermittent, and a simple retry will get you on your way.\n",
      "\n",
      "If your current network has https://repo.anaconda.com blocked, please file\n",
      "a support request with your network engineering team.\n",
      "\n",
      "'https//repo.anaconda.com/pkgs/main/osx-arm64'\n",
      "\n",
      "\n",
      "Retrying (Retry(total=2, connect=None, read=None, redirect=None, status=None)) after connection broken by 'NameResolutionError(\"<urllib3.connection.HTTPSConnection object at 0x10332b4d0>: Failed to resolve 'conda.anaconda.org' ([Errno 8] nodename nor servname provided, or not known)\")': /conda-forge/noarch/repodata.json\n",
      "\n",
      "Channels:\n",
      " - defaults\n",
      "Platform: osx-arm64\n",
      "Collecting package metadata (repodata.json): / Retrying (Retry(total=2, connect=None, read=None, redirect=None, status=None)) after connection broken by 'NameResolutionError(\"<urllib3.connection.HTTPSConnection object at 0x114e03b10>: Failed to resolve 'repo.anaconda.com' ([Errno 8] nodename nor servname provided, or not known)\")': /pkgs/main/noarch/repodata.json.zst\n",
      "\n",
      "- Retrying (Retry(total=2, connect=None, read=None, redirect=None, status=None)) after connection broken by 'NameResolutionError(\"<urllib3.connection.HTTPSConnection object at 0x114e00c90>: Failed to resolve 'repo.anaconda.com' ([Errno 8] nodename nor servname provided, or not known)\")': /pkgs/r/osx-arm64/repodata.json.zst\n",
      "\n",
      "Retrying (Retry(total=2, connect=None, read=None, redirect=None, status=None)) after connection broken by 'NameResolutionError(\"<urllib3.connection.HTTPSConnection object at 0x114dea050>: Failed to resolve 'repo.anaconda.com' ([Errno 8] nodename nor servname provided, or not known)\")': /pkgs/r/noarch/repodata.json.zst\n",
      "\n",
      "\\ Retrying (Retry(total=2, connect=None, read=None, redirect=None, status=None)) after connection broken by 'NameResolutionError(\"<urllib3.connection.HTTPSConnection object at 0x114dd2f50>: Failed to resolve 'repo.anaconda.com' ([Errno 8] nodename nor servname provided, or not known)\")': /pkgs/main/osx-arm64/repodata.json.zst\n",
      "\n",
      "/ ^C\n",
      "- Retrying (Retry(total=1, connect=None, read=None, redirect=None, status=None)) after connection broken by 'NameResolutionError(\"<urllib3.connection.HTTPSConnection object at 0x114dea750>: Failed to resolve 'repo.anaconda.com' ([Errno 8] nodename nor servname provided, or not known)\")': /pkgs/main/noarch/repodata.json.zst\n",
      "\n",
      "Retrying (Retry(total=1, connect=None, read=None, redirect=None, status=None)) after connection broken by 'NameResolutionError(\"<urllib3.connection.HTTPSConnection object at 0x114deb310>: Failed to resolve 'repo.anaconda.com' ([Errno 8] nodename nor servname provided, or not known)\")': /pkgs/r/osx-arm64/repodata.json.zst\n",
      "\n",
      "Retrying (Retry(total=1, connect=None, read=None, redirect=None, status=None)) after connection broken by 'NameResolutionError(\"<urllib3.connection.HTTPSConnection object at 0x114deb9d0>: Failed to resolve 'repo.anaconda.com' ([Errno 8] nodename nor servname provided, or not known)\")': /pkgs/r/noarch/repodata.json.zst\n",
      "\n",
      "\\ Retrying (Retry(total=1, connect=None, read=None, redirect=None, status=None)) after connection broken by 'NameResolutionError(\"<urllib3.connection.HTTPSConnection object at 0x114dd0350>: Failed to resolve 'repo.anaconda.com' ([Errno 8] nodename nor servname provided, or not known)\")': /pkgs/main/osx-arm64/repodata.json.zst\n",
      "\n",
      "Channels:\n",
      " - defaults\n",
      " - conda-forge\n",
      "Platform: osx-arm64\n",
      "Collecting package metadata (repodata.json): done\n",
      "Solving environment: done\n",
      "\n",
      "# All requested packages already installed.\n",
      "\n",
      "Channels:\n",
      " - defaults\n",
      " - conda-forge\n",
      "Platform: osx-arm64\n",
      "Collecting package metadata (repodata.json): done\n",
      "Solving environment: done\n",
      "\n",
      "# All requested packages already installed.\n",
      "\n",
      "Channels:\n",
      " - defaults\n",
      " - conda-forge\n",
      "Platform: osx-arm64\n",
      "Collecting package metadata (repodata.json): done\n",
      "Solving environment: done\n",
      "\n",
      "# All requested packages already installed.\n",
      "\n",
      "Channels:\n",
      " - defaults\n",
      " - conda-forge\n",
      "Platform: osx-arm64\n",
      "Collecting package metadata (repodata.json): done\n",
      "Solving environment: done\n",
      "\n",
      "# All requested packages already installed.\n",
      "\n",
      "Channels:\n",
      " - defaults\n",
      " - conda-forge\n",
      "Platform: osx-arm64\n",
      "Collecting package metadata (repodata.json): done\n",
      "Solving environment: done\n",
      "\n",
      "# All requested packages already installed.\n",
      "\n",
      "Collecting imdbpy\n",
      "  Downloading IMDbPY-2022.7.9-py3-none-any.whl.metadata (498 bytes)\n",
      "Collecting cinemagoer (from imdbpy)\n",
      "  Downloading cinemagoer-2023.5.1-py3-none-any.whl.metadata (2.9 kB)\n",
      "Requirement already satisfied: SQLAlchemy in /opt/anaconda3/envs/dev/lib/python3.10/site-packages (from cinemagoer->imdbpy) (2.0.30)\n",
      "Requirement already satisfied: lxml in /opt/anaconda3/envs/dev/lib/python3.10/site-packages (from cinemagoer->imdbpy) (5.2.1)\n",
      "Requirement already satisfied: typing-extensions>=4.6.0 in /opt/anaconda3/envs/dev/lib/python3.10/site-packages (from SQLAlchemy->cinemagoer->imdbpy) (4.11.0)\n",
      "Downloading IMDbPY-2022.7.9-py3-none-any.whl (1.2 kB)\n",
      "Downloading cinemagoer-2023.5.1-py3-none-any.whl (297 kB)\n",
      "\u001b[2K   \u001b[38;2;114;156;31m━━━━━━━━━━━━━━━━━━━━━━━━━━━━━━━━━━━━━━━━\u001b[0m \u001b[32m297.2/297.2 kB\u001b[0m \u001b[31m2.3 MB/s\u001b[0m eta \u001b[36m0:00:00\u001b[0mm eta \u001b[36m0:00:01\u001b[0m[36m0:00:01\u001b[0m\n",
      "\u001b[?25hInstalling collected packages: cinemagoer, imdbpy\n",
      "Successfully installed cinemagoer-2023.5.1 imdbpy-2022.7.9\n"
     ]
    }
   ],
   "source": [
    "#pip install gradio langchain tensorflow openai imdbpy google-api-python-client\n",
    "\n",
    "import sys\n",
    "!conda install --yes --prefix {sys.prefix} gradio\n",
    "!conda install --yes --prefix {sys.prefix} langchain\n",
    "!conda install --yes --prefix {sys.prefix} langchain-community\n",
    "!conda install --yes --prefix {sys.prefix} langchain-core\n",
    "!conda install --yes --prefix {sys.prefix} tensorflow\n",
    "!conda install --yes --prefix {sys.prefix} openai\n",
    "!conda install --yes --prefix {sys.prefix} google-api-python-client\n",
    "!conda install --yes --prefix {sys.prefix} python-dotenv\n",
    "\n",
    "!pip install imdbpy\n"
   ]
  },
  {
   "cell_type": "markdown",
   "metadata": {},
   "source": [
    "### Project imports for libraries, functions, and classes"
   ]
  },
  {
   "cell_type": "code",
   "execution_count": 9,
   "metadata": {},
   "outputs": [],
   "source": [
    "# AI/ML specific imports\n",
    "import gradio as gr\n",
    "from langchain.prompts import ChatPromptTemplate\n",
    "from langchain.chains import LLMChain\n",
    "from langchain.llms import OpenAI\n",
    "import imdb  # IMDBPY library for querying IMDB\n",
    "import requests\n",
    "from googleapiclient.discovery import build\n",
    "\n",
    "# OS/ENV specific imports\n",
    "from dotenv import load_dotenv\n",
    "import os"
   ]
  },
  {
   "cell_type": "markdown",
   "metadata": {},
   "source": [
    "### Load the environment"
   ]
  },
  {
   "cell_type": "code",
   "execution_count": null,
   "metadata": {},
   "outputs": [],
   "source": [
    "load_dotenv ()"
   ]
  },
  {
   "cell_type": "markdown",
   "metadata": {},
   "source": [
    "### Read API keys from config file"
   ]
  },
  {
   "cell_type": "code",
   "execution_count": null,
   "metadata": {},
   "outputs": [],
   "source": [
    "imdb_api_key = os.getenv ( \"IMDB_API_KEY\" )\n",
    "google_api_key = os.getenv ( \"GOOGLE_API_KEY\" )"
   ]
  }
 ],
 "metadata": {
  "kernelspec": {
   "display_name": "dev",
   "language": "python",
   "name": "python3"
  },
  "language_info": {
   "codemirror_mode": {
    "name": "ipython",
    "version": 3
   },
   "file_extension": ".py",
   "mimetype": "text/x-python",
   "name": "python",
   "nbconvert_exporter": "python",
   "pygments_lexer": "ipython3",
   "version": "3.10.13"
  }
 },
 "nbformat": 4,
 "nbformat_minor": 2
}
